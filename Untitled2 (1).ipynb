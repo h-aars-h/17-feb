{
 "cells": [
  {
   "cell_type": "code",
   "execution_count": 1,
   "id": "fe34e28d-2e75-4572-984c-c7e6b4656a12",
   "metadata": {},
   "outputs": [],
   "source": [
    "# Q1. What is MongoDB? Explain non-relational databases in short. In which scenarios it is preferred to use\n",
    "# Ans 1 =MongoDB over SQL databases?\n",
    "# MongoDB is a popular open-source NoSQL document-oriented database system that\n",
    "# stores data in flexible JSON-like documents with dynamic schemas. It is designed to provide high\n",
    "# scalability, high availability, and automatic sharding to enable organizations to manage large\n",
    "# amounts of unstructured or semi-structured data in real-time.\n",
    "# Large volumes of unstructured or semi-structured data: MongoDB's flexible data model allows for the storage of\n",
    "# unstructured or semi-structured data such as social media data, \n",
    "# logs, or sensor data. SQL databases are better suited for structured data."
   ]
  },
  {
   "cell_type": "code",
   "execution_count": 2,
   "id": "f1a23ed8-0569-4a8a-9758-51324a3d239f",
   "metadata": {},
   "outputs": [],
   "source": [
    "# Q2. State and Explain the features of MongoDB.\n",
    "# ans 2 =MongoDB is a popular NoSQL document-oriented database system that provides a range of features to\n",
    "# enable the storage, retrieval, and manipulation of large amounts of unstructured or semi-structured data. \n",
    "# The key features of MongoDB are as follows:\n",
    "# Document-oriented: MongoDB is a document-oriented database that stores data in flexible JSON-like\n",
    "# documents, making it suitable for storing unstructured or semi-structured data.\n",
    "# Dynamic schema: MongoDB's dynamic schema allows for the storage of data without predefined schemas\n",
    "# , enabling more flexibility in data modeling and faster development cycles."
   ]
  },
  {
   "cell_type": "code",
   "execution_count": 3,
   "id": "733c2a79-9e48-438d-be9f-c91effcded0d",
   "metadata": {},
   "outputs": [],
   "source": [
    "# Q3. Write a code to connect MongoDB to Python. Also, create a database and a collection in MongoDB.\n",
    "import pymongo"
   ]
  },
  {
   "cell_type": "code",
   "execution_count": 2,
   "id": "dc358309-e901-4034-99b6-2ef47e145bf6",
   "metadata": {},
   "outputs": [
    {
     "name": "stdout",
     "output_type": "stream",
     "text": [
      "Collecting pymongo\n",
      "  Downloading pymongo-4.3.3-cp310-cp310-manylinux_2_17_x86_64.manylinux2014_x86_64.whl (492 kB)\n",
      "\u001b[2K     \u001b[90m━━━━━━━━━━━━━━━━━━━━━━━━━━━━━━━━━━━━━━\u001b[0m \u001b[32m492.9/492.9 kB\u001b[0m \u001b[31m34.6 MB/s\u001b[0m eta \u001b[36m0:00:00\u001b[0m\n",
      "\u001b[?25hCollecting dnspython<3.0.0,>=1.16.0\n",
      "  Downloading dnspython-2.3.0-py3-none-any.whl (283 kB)\n",
      "\u001b[2K     \u001b[90m━━━━━━━━━━━━━━━━━━━━━━━━━━━━━━━━━━━━━━\u001b[0m \u001b[32m283.7/283.7 kB\u001b[0m \u001b[31m36.6 MB/s\u001b[0m eta \u001b[36m0:00:00\u001b[0m\n",
      "\u001b[?25hInstalling collected packages: dnspython, pymongo\n",
      "Successfully installed dnspython-2.3.0 pymongo-4.3.3\n",
      "Note: you may need to restart the kernel to use updated packages.\n"
     ]
    }
   ],
   "source": [
    "pip install pymongo"
   ]
  },
  {
   "cell_type": "code",
   "execution_count": 4,
   "id": "0b47b65c-5255-48be-a4b2-28918998e555",
   "metadata": {},
   "outputs": [],
   "source": [
    "\n",
    "client = pymongo.MongoClient(\"mongodb+srv://hk:hk@cluster0.a84glnr.mongodb.net/?retryWrites=true&w=majority\")\n",
    "db = client.test\n"
   ]
  },
  {
   "cell_type": "code",
   "execution_count": 5,
   "id": "f96dc721-9801-484b-ba4f-211daded42f6",
   "metadata": {},
   "outputs": [
    {
     "data": {
      "text/plain": [
       "Database(MongoClient(host=['ac-yucwmpp-shard-00-00.a84glnr.mongodb.net:27017', 'ac-yucwmpp-shard-00-01.a84glnr.mongodb.net:27017', 'ac-yucwmpp-shard-00-02.a84glnr.mongodb.net:27017'], document_class=dict, tz_aware=False, connect=True, retrywrites=True, w='majority', authsource='admin', replicaset='atlas-hujbb7-shard-0', tls=True), 'test')"
      ]
     },
     "execution_count": 5,
     "metadata": {},
     "output_type": "execute_result"
    }
   ],
   "source": [
    "db"
   ]
  },
  {
   "cell_type": "code",
   "execution_count": null,
   "id": "95f5294e-a36b-4de3-8627-0a28fb8d09ff",
   "metadata": {},
   "outputs": [],
   "source": []
  },
  {
   "cell_type": "code",
   "execution_count": 6,
   "id": "38e0385b-1242-4ee8-939a-1ec5e1629d93",
   "metadata": {},
   "outputs": [],
   "source": [
    "db=client[\"pwskills\"]"
   ]
  },
  {
   "cell_type": "code",
   "execution_count": 7,
   "id": "8361bce9-8f07-4ae6-ba18-52d6e55be7cb",
   "metadata": {},
   "outputs": [],
   "source": [
    "data={'name':'harsh',\n",
    "     \"class\":\"data sciecnce\"}"
   ]
  },
  {
   "cell_type": "code",
   "execution_count": null,
   "id": "4a688777-add8-4b8c-bb8c-f5d7aeac0e19",
   "metadata": {},
   "outputs": [],
   "source": [
    "# Q4. Using the database and the collection created in question number 3, write a code to insert one record,\n",
    "# and insert many records. Use the find() and find_one() methods to print the inserted record."
   ]
  },
  {
   "cell_type": "code",
   "execution_count": 9,
   "id": "461ed1ba-2461-483f-b92a-3d2f10963e38",
   "metadata": {},
   "outputs": [],
   "source": [
    "coll_Pwskills=db[\"my_record\"] # here we taken the question third collectioin to use here and here we create "
   ]
  },
  {
   "cell_type": "code",
   "execution_count": null,
   "id": "78b51538-10b6-48ee-9205-705daccb9dbf",
   "metadata": {},
   "outputs": [],
   "source": [
    "coll_Pwskills.insert_one(data) # here we insert a single data line "
   ]
  },
  {
   "cell_type": "code",
   "execution_count": 11,
   "id": "1f18e1ae-3254-49b8-b2ad-510daa7fba10",
   "metadata": {},
   "outputs": [],
   "source": [
    "data1=[{\"name\":\"ram\",\n",
    "       \"add\":\"kanpur\"},\n",
    "      {'name':\"pawan\",\n",
    "       \"add\":\"up\"}]"
   ]
  },
  {
   "cell_type": "code",
   "execution_count": 13,
   "id": "d2783273-7042-4e66-be01-84c8fa25a6aa",
   "metadata": {},
   "outputs": [
    {
     "data": {
      "text/plain": [
       "<pymongo.results.InsertManyResult at 0x7fb827d961a0>"
      ]
     },
     "execution_count": 13,
     "metadata": {},
     "output_type": "execute_result"
    }
   ],
   "source": [
    "coll_Pwskills.insert_many(data1) # here we insert many lines data just is jason"
   ]
  },
  {
   "cell_type": "code",
   "execution_count": 20,
   "id": "f1bd6ae6-86b1-4a44-83e2-8db5b732b4f0",
   "metadata": {},
   "outputs": [
    {
     "name": "stdout",
     "output_type": "stream",
     "text": [
      "{'_id': ObjectId('63fefe58d707bede8244b2ab'), 'name': 'harsh', 'class': 'data sciecnce'}\n",
      "{'_id': ObjectId('63feff07d707bede8244b2ac'), 'name': 'ram', 'add': 'kanpur'}\n",
      "{'_id': ObjectId('63feff07d707bede8244b2ad'), 'name': 'pawan', 'add': 'up'}\n"
     ]
    }
   ],
   "source": [
    "for i in coll_Pwskills.find():\n",
    "    print(i) #here we find all the data to store in data base ."
   ]
  },
  {
   "cell_type": "code",
   "execution_count": 26,
   "id": "52c9d670-5713-4d45-9148-04f56404f886",
   "metadata": {},
   "outputs": [
    {
     "name": "stdout",
     "output_type": "stream",
     "text": [
      "{'_id': ObjectId('63fefe58d707bede8244b2ab'), 'name': 'harsh', 'class': 'data sciecnce'}\n"
     ]
    }
   ],
   "source": [
    "for i in coll_Pwskills.find({'name':'harsh'}): # here we write to query to find anything in json way.\n",
    "    print(i)"
   ]
  },
  {
   "cell_type": "code",
   "execution_count": 25,
   "id": "4437c3bd-2da9-448e-8304-9858d37ed6fa",
   "metadata": {},
   "outputs": [
    {
     "data": {
      "text/plain": [
       "{'_id': ObjectId('63fefe58d707bede8244b2ab'),\n",
       " 'name': 'harsh',\n",
       " 'class': 'data sciecnce'}"
      ]
     },
     "execution_count": 25,
     "metadata": {},
     "output_type": "execute_result"
    }
   ],
   "source": [
    "coll_Pwskills.find_one() # this is using for one data whose the top is find"
   ]
  },
  {
   "cell_type": "code",
   "execution_count": 27,
   "id": "f74e989c-9eb2-4a2e-bc36-de22dcbf36db",
   "metadata": {},
   "outputs": [
    {
     "name": "stdout",
     "output_type": "stream",
     "text": [
      "{'_id': ObjectId('63feff07d707bede8244b2ac'), 'name': 'ram', 'add': 'kanpur'}\n"
     ]
    }
   ],
   "source": [
    "# Q5. Explain how you can use the find() method to query the MongoDB database. Write a simple code to\n",
    "# demonstrate this.\n",
    "# Ans 5 Here we using the same data in question no three  and In MongoDB, the find() method is used to query\n",
    "# the database for documents that match a specified criteria. This method returns a cursor object, which can be \n",
    "# iterated over to access the results.\n",
    "for i in coll_Pwskills.find({'name':'ram'}): # here we write to query to find anything in json way.\n",
    "    print(i)"
   ]
  },
  {
   "cell_type": "code",
   "execution_count": 28,
   "id": "4eb89b5b-d0cc-40e4-8f4c-e8f03e8e0c7b",
   "metadata": {},
   "outputs": [],
   "source": [
    "random_data = [\n",
    "    {'_id': '3', 'companyName': 'iNeuron', 'Faculty': 'XYZ'},#here we taking one more random data \n",
    "    {'_id': '4', 'companyName': 'iNeuron', 'Faculty': 'ABC'},\n",
    "    {'_id': '5', 'companyName': 'iNeuron', 'Faculty': 'PQR'},\n",
    "]"
   ]
  },
  {
   "cell_type": "code",
   "execution_count": 29,
   "id": "a5ed8d41-931f-4e20-ac1e-810d77cfd13a",
   "metadata": {},
   "outputs": [
    {
     "data": {
      "text/plain": [
       "<pymongo.results.InsertManyResult at 0x7fb8276a0640>"
      ]
     },
     "execution_count": 29,
     "metadata": {},
     "output_type": "execute_result"
    }
   ],
   "source": [
    "coll_Pwskills.insert_many(random_data)"
   ]
  },
  {
   "cell_type": "code",
   "execution_count": 32,
   "id": "e38b0ba8-cd3e-4a9e-8ed2-a5030e7b1682",
   "metadata": {},
   "outputs": [
    {
     "name": "stdout",
     "output_type": "stream",
     "text": [
      "{'_id': ObjectId('63fefe58d707bede8244b2ab'), 'name': 'harsh', 'class': 'data sciecnce'}\n",
      "{'_id': ObjectId('63feff07d707bede8244b2ac'), 'name': 'ram', 'add': 'kanpur'}\n",
      "{'_id': ObjectId('63feff07d707bede8244b2ad'), 'name': 'pawan', 'add': 'up'}\n",
      "{'_id': '3', 'companyName': 'iNeuron', 'Faculty': 'XYZ'}\n",
      "{'_id': '4', 'companyName': 'iNeuron', 'Faculty': 'ABC'}\n",
      "{'_id': '5', 'companyName': 'iNeuron', 'Faculty': 'PQR'}\n"
     ]
    }
   ],
   "source": [
    "for i in coll_Pwskills.find():\n",
    "    print (i) # so here we find the data is id 5"
   ]
  },
  {
   "cell_type": "code",
   "execution_count": 37,
   "id": "1e7a1487-6782-4ad7-b0f0-9c4799770971",
   "metadata": {},
   "outputs": [
    {
     "name": "stdout",
     "output_type": "stream",
     "text": [
      "{'_id': '5', 'companyName': 'iNeuron', 'Faculty': 'PQR'}\n"
     ]
    }
   ],
   "source": [
    "# here i find the id 5 line \n",
    "for i in coll_Pwskills.find({'_id':{\"$gte\":\"5\"}}):\n",
    "    print(i)"
   ]
  },
  {
   "cell_type": "code",
   "execution_count": 44,
   "id": "10e4e1f2-d51a-442e-a22b-3f0b4216721e",
   "metadata": {},
   "outputs": [],
   "source": [
    "# Q6. Explain the sort() method. Give an example to demonstrate sorting in MongoDB.\n",
    "# coll_Pwskills.find().sort('_id':'3')MongoDB, the sort() method is used to sort the results of a query \n",
    "# in ascending or descending order based on one or more fields in the documents.\n",
    "# The sort() method takes a parameter that specifies the field(s) to sort on,\n",
    "# as well as the sort order. The parameter should be a dictionary, where the keys are the field(s)\n",
    "# to sort on and the values are either 1 for ascending order or -1 for descending order"
   ]
  },
  {
   "cell_type": "code",
   "execution_count": null,
   "id": "a3f639da-5eaa-40f6-b123-c40d2e457727",
   "metadata": {},
   "outputs": [],
   "source": [
    "# Q7. Explain why delete_one(), delete_many(), and drop() is used.\n",
    "# Ans 7delete_one(filter) - This method removes a single document from a collection that matches the specified filter.\n",
    "# If multiple documents match the filter, only the first document encountered will be deleted. \n",
    "# The filter parameter is a dictionary that specifies the criteria for selecting the document(s) to delete.\n",
    "# delete_many(filter) - This method removes multiple documents from a collection that match the \n",
    "# specified filter. The filter parameter is a dictionary that specifies the criteria for selecting the document(s) to delete.\n",
    "# drop() - This method drops the entire collection from the database. \n",
    "# This is a permanent action, and cannot be undone. All indexes and data in the collection will be deleted."
   ]
  }
 ],
 "metadata": {
  "kernelspec": {
   "display_name": "Python 3 (ipykernel)",
   "language": "python",
   "name": "python3"
  },
  "language_info": {
   "codemirror_mode": {
    "name": "ipython",
    "version": 3
   },
   "file_extension": ".py",
   "mimetype": "text/x-python",
   "name": "python",
   "nbconvert_exporter": "python",
   "pygments_lexer": "ipython3",
   "version": "3.10.6"
  }
 },
 "nbformat": 4,
 "nbformat_minor": 5
}
